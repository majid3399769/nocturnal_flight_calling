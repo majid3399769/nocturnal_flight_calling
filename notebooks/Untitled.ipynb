{
 "cells": [
  {
   "cell_type": "code",
   "execution_count": 1,
   "metadata": {},
   "outputs": [
    {
     "output_type": "stream",
     "name": "stdout",
     "text": [
      "        Genus  Species       Date Locality\n0  Ammodramus  nelsoni 1982-10-03       MP\n1  Ammodramus  nelsoni 1984-05-21      CHI\n2  Ammodramus  nelsoni 1984-05-25       MP\n3  Ammodramus  nelsoni 1985-10-08       MP\n4  Ammodramus  nelsoni 1986-09-10       MP\n         Genus      Species         Family  Collisions Flight Call Habitat  \\\n0  Zonotrichia   albicollis  Passerellidae       10133         yes  Forest   \n1        Junco     hyemalis  Passerellidae        6303         yes    Edge   \n2    Melospiza      melodia  Passerellidae        5124         yes    Edge   \n3    Melospiza    georgiana  Passerellidae        4910         yes    Open   \n4      Seiurus  aurocapilla      Parulidae        4580         yes  Forest   \n\n  Stratum  \n0   Lower  \n1   Lower  \n2   Lower  \n3   Lower  \n4   Lower  \n        Date  Light Score \n0 2010-09-26           4.0\n1 2015-05-07           6.0\n2 2012-03-07           NaN\n3 2000-09-18          15.0\n4 2000-11-10          15.0\n         Collisions\ncount     96.000000\nmean     807.927083\nstd     1602.275587\nmin        1.000000\n25%       17.500000\n50%      177.000000\n75%      742.000000\nmax    10133.000000\n       Light Score \ncount   3236.000000\nmean      10.338690\nstd        5.279244\nmin        3.000000\n25%        4.000000\n50%       11.000000\n75%       15.000000\nmax       17.000000\n             Genus       Species       Date Locality\n43622   Cardellina    canadensis 1978-09-15       MP\n17027    Oporornis        agilis 1978-09-15       MP\n17026    Oporornis        agilis 1978-09-15       MP\n10978    Setophaga  caerulescens 1978-09-15       MP\n39224  Oreothlypis     peregrina 1978-09-15       MP\n...            ...           ...        ...      ...\n12337    Setophaga      coronata 2016-11-18      CHI\n26295        Junco      hyemalis 2016-11-30      CHI\n26296        Junco      hyemalis 2016-11-30      CHI\n26297        Junco      hyemalis 2016-11-30      CHI\n61536   Passerella        iliaca 2016-11-30      CHI\n\n[69784 rows x 4 columns]\n['yes' 'no' 'rare']\n"
     ]
    }
   ],
   "source": [
    "import pandas as pd \n",
    "import configparser\n",
    "import os\n",
    "import matplotlib.pyplot as plt\n",
    "import numpy as np\n",
    "\n",
    "# Configuration\n",
    "config_file = \"c:\\\\Users\\\\shaik.ms.1\\\\OneDrive - Procter and Gamble\\\\Documents\\\\Projects\\\\Personal\\\\nocturnal_flight_calling\\\\config\\\\config.ini\"\n",
    "cp = configparser.ConfigParser()\n",
    "cp.read(config_file)\n",
    "\n",
    "# Environment \n",
    "env = cp[\"Env\"][\"env\"]\n",
    "input_path =\"c:\\\\Users\\\\shaik.ms.1\\\\OneDrive - Procter and Gamble\\\\Documents\\\\Projects\\\\Personal\\\\nocturnal_flight_calling\\\\\" +cp[\"Input\"][\"path\"]\n",
    "chicago_collision = input_path + cp[\"Input\"][\"chicago_collision\"]\n",
    "flight_call = input_path + cp[\"Input\"][\"flight_call\"]\n",
    "light_levels = input_path + cp[\"Input\"][\"light_levels\"]\n",
    "\n",
    "# Read data as JSON file \n",
    "chicago_collision_df = pd.read_json(chicago_collision)\n",
    "flight_call_df = pd.read_json(flight_call)\n",
    "light_levels_df = pd.read_json(light_levels)\n",
    "\n",
    "rename_cols ={\"Species\":\"Genus\",\"Family\":\"Species\",\"Collisions\":\"Family\", \"Call\":\"Flight Call\",\"Flight\":\"Collisions\"}\n",
    "flight_call_df.rename(columns = rename_cols,inplace=True)\n",
    "flight_call_df[\"Flight Call\"]= flight_call_df[\"Flight Call\"].str.lower()\n",
    "#flight_call_df = flight_call_df[flight_call_df[\"Flight Call\"]!=\"rare\"]\n",
    "\n",
    "print(chicago_collision_df.head())\n",
    "print(flight_call_df.head())\n",
    "print(light_levels_df.head())\n",
    "\n",
    "\n",
    "print(flight_call_df.describe())\n",
    "print(light_levels_df.describe())\n",
    "\n",
    "\n",
    "# Clean Data \n",
    "\n",
    "print(chicago_collision_df.sort_values(by=['Date']))\n",
    "print(pd.unique(flight_call_df[\"Flight Call\"]))\n"
   ]
  },
  {
   "cell_type": "code",
   "execution_count": 2,
   "metadata": {},
   "outputs": [
    {
     "output_type": "stream",
     "name": "stdout",
     "text": [
      "Genus       69784\n",
      "Species     69784\n",
      "Date        69784\n",
      "Locality    69784\n",
      "dtype: int64\n",
      "<class 'pandas.core.frame.DataFrame'>\n",
      "Int64Index: 69784 entries, 0 to 69783\n",
      "Data columns (total 4 columns):\n",
      "Genus       69784 non-null object\n",
      "Species     69784 non-null object\n",
      "Date        69784 non-null datetime64[ns]\n",
      "Locality    69784 non-null object\n",
      "dtypes: datetime64[ns](1), object(3)\n",
      "memory usage: 2.7+ MB\n",
      "None\n",
      "            Genus     Species                 Date Locality\n",
      "count       69784       69784                69784    69784\n",
      "unique         43          84                 5318        2\n",
      "top     Melospiza  albicollis  2013-10-08 00:00:00       MP\n",
      "freq        12063       10133                  364    36315\n",
      "first         NaN         NaN  1978-09-15 00:00:00      NaN\n",
      "last          NaN         NaN  2016-11-30 00:00:00      NaN\n"
     ]
    }
   ],
   "source": [
    "print(chicago_collision_df.count())\n",
    "print(chicago_collision_df.info())\n",
    "print(chicago_collision_df.describe())\n",
    "chicago_collision_df.sort_values(by = [\"Date\"],ascending=False)\n",
    "\n",
    "chicago_collision_df['Month'] = pd.DatetimeIndex(chicago_collision_df['Date']).month\n",
    "chicago_collision_df['Season'] = chicago_collision_df['Month'].map({3:\"spring\",4:\"spring\",5:\"spring\",8:\"autumn\",9:\"autumn\",10:\"autumn\",11:\"autumn\"})\n",
    "chicago_collision_df.drop(labels=[\"Month\"], axis=1, inplace= True)\n",
    "# Standardize it to lower for joining with flight call data \n",
    "chicago_collision_df[\"Species\"]= chicago_collision_df[\"Species\"].str.lower()\n",
    "chicago_collision_df[\"Genus\"]= chicago_collision_df[\"Genus\"].str.lower()\n",
    "\n",
    "def corrected_genus(genus,species):\n",
    "    if(genus == \"ammodramus\" and species == \"henslowii\"):\n",
    "        return \"centronyx\"\n",
    "    elif(genus == \"ammodramus\" and species == \"nelsoni\" ):\n",
    "        return \"ammospiza\"\n",
    "    elif(genus == \"ammodramus\" and species == \"leconteii\" ):\n",
    "        return \"ammospiza\"\n",
    "    else:\n",
    "        return genus\n",
    "\n",
    "chicago_collision_df[\"Genus\"] = chicago_collision_df.apply(lambda x: corrected_genus(x[\"Genus\"],x[\"Species\"]), axis= 1)\n"
   ]
  },
  {
   "cell_type": "code",
   "execution_count": 3,
   "metadata": {},
   "outputs": [
    {
     "output_type": "stream",
     "name": "stdout",
     "text": [
      "Genus          96\nSpecies        96\nFamily         96\nCollisions     96\nFlight Call    96\nHabitat        96\nStratum        96\ndtype: int64\n<class 'pandas.core.frame.DataFrame'>\nInt64Index: 96 entries, 0 to 95\nData columns (total 7 columns):\nGenus          96 non-null object\nSpecies        96 non-null object\nFamily         96 non-null object\nCollisions     96 non-null int64\nFlight Call    96 non-null object\nHabitat        96 non-null object\nStratum        96 non-null object\ndtypes: int64(1), object(6)\nmemory usage: 6.0+ KB\nNone\n         Collisions\ncount     96.000000\nmean     807.927083\nstd     1602.275587\nmin        1.000000\n25%       17.500000\n50%      177.000000\n75%      742.000000\nmax    10133.000000\nHabitat ['forest' 'edge' 'open']\nStratum ['lower' 'upper']\nFlight Call ['yes' 'no']\n"
     ]
    }
   ],
   "source": [
    "print(flight_call_df.count())\n",
    "print(flight_call_df.info())\n",
    "print(flight_call_df.describe())\n",
    "\n",
    "flight_call_df.sort_values(by = [\"Collisions\"],ascending=False)\n",
    "\n",
    "flight_call_df[\"Flight Call\"] = flight_call_df[\"Flight Call\"].map({\"yes\":\"yes\",\"no\":\"no\", \"rare\":\"no\"})\n",
    "flight_call_df[\"Stratum\"] = flight_call_df[\"Stratum\"].str.lower().replace(\"\\t\",\"\")\n",
    "flight_call_df[\"Stratum\"] = flight_call_df[\"Stratum\"].str.replace(\"\\t\",\"\")\n",
    "flight_call_df[\"Habitat\"] = flight_call_df[\"Habitat\"].str.lower()\n",
    "flight_call_df[\"Species\"]= flight_call_df[\"Species\"].str.lower()\n",
    "flight_call_df[\"Genus\"]= flight_call_df[\"Genus\"].str.lower()\n",
    "flight_call_df.drop_duplicates(inplace=True)\n",
    "print(\"Habitat\", pd.unique(flight_call_df[\"Habitat\"]))\n",
    "print(\"Stratum\", pd.unique(flight_call_df[\"Stratum\"]))\n",
    "print(\"Flight Call\", pd.unique(flight_call_df[\"Flight Call\"]))"
   ]
  },
  {
   "cell_type": "code",
   "execution_count": 21,
   "metadata": {},
   "outputs": [
    {
     "output_type": "execute_result",
     "data": {
      "text/plain": [
       "          Genus      Species         Family  Collisions Flight Call Habitat  \\\n",
       "0   zonotrichia   albicollis  Passerellidae       10133         yes  forest   \n",
       "1         junco     hyemalis  Passerellidae        6303         yes    edge   \n",
       "2     melospiza      melodia  Passerellidae        5124         yes    edge   \n",
       "3     melospiza    georgiana  Passerellidae        4910         yes    open   \n",
       "4       seiurus  aurocapilla      Parulidae        4580         yes  forest   \n",
       "..          ...          ...            ...         ...         ...     ...   \n",
       "86    setophaga      cerulea      Parulidae           3         yes  forest   \n",
       "87        vireo       gilvus     Vireonidae           2          no  forest   \n",
       "88  zonotrichia      querula  Passerellidae           2         yes    edge   \n",
       "89       lanius    excubitor       Laniidae           1          no    open   \n",
       "90    passerina     caerulea   Cardinalidae           1         yes    edge   \n",
       "\n",
       "   Stratum  \n",
       "0    lower  \n",
       "1    lower  \n",
       "2    lower  \n",
       "3    lower  \n",
       "4    lower  \n",
       "..     ...  \n",
       "86   upper  \n",
       "87   upper  \n",
       "88   lower  \n",
       "89   upper  \n",
       "90   upper  \n",
       "\n",
       "[91 rows x 7 columns]"
      ],
      "text/html": "<div>\n<style scoped>\n    .dataframe tbody tr th:only-of-type {\n        vertical-align: middle;\n    }\n\n    .dataframe tbody tr th {\n        vertical-align: top;\n    }\n\n    .dataframe thead th {\n        text-align: right;\n    }\n</style>\n<table border=\"1\" class=\"dataframe\">\n  <thead>\n    <tr style=\"text-align: right;\">\n      <th></th>\n      <th>Genus</th>\n      <th>Species</th>\n      <th>Family</th>\n      <th>Collisions</th>\n      <th>Flight Call</th>\n      <th>Habitat</th>\n      <th>Stratum</th>\n    </tr>\n  </thead>\n  <tbody>\n    <tr>\n      <th>0</th>\n      <td>zonotrichia</td>\n      <td>albicollis</td>\n      <td>Passerellidae</td>\n      <td>10133</td>\n      <td>yes</td>\n      <td>forest</td>\n      <td>lower</td>\n    </tr>\n    <tr>\n      <th>1</th>\n      <td>junco</td>\n      <td>hyemalis</td>\n      <td>Passerellidae</td>\n      <td>6303</td>\n      <td>yes</td>\n      <td>edge</td>\n      <td>lower</td>\n    </tr>\n    <tr>\n      <th>2</th>\n      <td>melospiza</td>\n      <td>melodia</td>\n      <td>Passerellidae</td>\n      <td>5124</td>\n      <td>yes</td>\n      <td>edge</td>\n      <td>lower</td>\n    </tr>\n    <tr>\n      <th>3</th>\n      <td>melospiza</td>\n      <td>georgiana</td>\n      <td>Passerellidae</td>\n      <td>4910</td>\n      <td>yes</td>\n      <td>open</td>\n      <td>lower</td>\n    </tr>\n    <tr>\n      <th>4</th>\n      <td>seiurus</td>\n      <td>aurocapilla</td>\n      <td>Parulidae</td>\n      <td>4580</td>\n      <td>yes</td>\n      <td>forest</td>\n      <td>lower</td>\n    </tr>\n    <tr>\n      <th>...</th>\n      <td>...</td>\n      <td>...</td>\n      <td>...</td>\n      <td>...</td>\n      <td>...</td>\n      <td>...</td>\n      <td>...</td>\n    </tr>\n    <tr>\n      <th>86</th>\n      <td>setophaga</td>\n      <td>cerulea</td>\n      <td>Parulidae</td>\n      <td>3</td>\n      <td>yes</td>\n      <td>forest</td>\n      <td>upper</td>\n    </tr>\n    <tr>\n      <th>87</th>\n      <td>vireo</td>\n      <td>gilvus</td>\n      <td>Vireonidae</td>\n      <td>2</td>\n      <td>no</td>\n      <td>forest</td>\n      <td>upper</td>\n    </tr>\n    <tr>\n      <th>88</th>\n      <td>zonotrichia</td>\n      <td>querula</td>\n      <td>Passerellidae</td>\n      <td>2</td>\n      <td>yes</td>\n      <td>edge</td>\n      <td>lower</td>\n    </tr>\n    <tr>\n      <th>89</th>\n      <td>lanius</td>\n      <td>excubitor</td>\n      <td>Laniidae</td>\n      <td>1</td>\n      <td>no</td>\n      <td>open</td>\n      <td>upper</td>\n    </tr>\n    <tr>\n      <th>90</th>\n      <td>passerina</td>\n      <td>caerulea</td>\n      <td>Cardinalidae</td>\n      <td>1</td>\n      <td>yes</td>\n      <td>edge</td>\n      <td>upper</td>\n    </tr>\n  </tbody>\n</table>\n<p>91 rows × 7 columns</p>\n</div>"
     },
     "metadata": {},
     "execution_count": 21
    }
   ],
   "source": []
  },
  {
   "cell_type": "code",
   "execution_count": 4,
   "metadata": {},
   "outputs": [
    {
     "output_type": "stream",
     "name": "stdout",
     "text": [
      "Date            3236\nLight Score     3236\ndtype: int64\n<class 'pandas.core.frame.DataFrame'>\nInt64Index: 3251 entries, 0 to 3250\nData columns (total 2 columns):\nDate            3236 non-null datetime64[ns]\nLight Score     3236 non-null float64\ndtypes: datetime64[ns](1), float64(1)\nmemory usage: 76.2 KB\nNone\n       Light Score \ncount   3236.000000\nmean      10.338690\nstd        5.279244\nmin        3.000000\n25%        4.000000\n50%       11.000000\n75%       15.000000\nmax       17.000000\n"
     ]
    }
   ],
   "source": [
    "print(light_levels_df.count())\n",
    "print(light_levels_df.info())\n",
    "print(light_levels_df.describe())"
   ]
  },
  {
   "cell_type": "code",
   "execution_count": 5,
   "metadata": {},
   "outputs": [
    {
     "output_type": "execute_result",
     "data": {
      "text/plain": [
       "             Genus     Species       Date Locality  Season         Family  \\\n",
       "0        ammospiza     nelsoni 1982-10-03       MP  autumn  Passerellidae   \n",
       "1        ammospiza     nelsoni 1984-05-21      CHI  spring  Passerellidae   \n",
       "2        ammospiza     nelsoni 1984-05-25       MP  spring  Passerellidae   \n",
       "3        ammospiza     nelsoni 1985-10-08       MP  autumn  Passerellidae   \n",
       "4        ammospiza     nelsoni 1986-09-10       MP  autumn  Passerellidae   \n",
       "...            ...         ...        ...      ...     ...            ...   \n",
       "77556    melospiza     melodia 2016-10-19      CHI  autumn  Passerellidae   \n",
       "77557    melospiza     melodia 2016-10-30      CHI  autumn  Passerellidae   \n",
       "77558  zonotrichia     querula 2007-10-15       MP  autumn  Passerellidae   \n",
       "77559  zonotrichia     querula 2008-10-16       MP  autumn  Passerellidae   \n",
       "77560  zonotrichia  albicollis 2013-10-22      CHI  autumn  Passerellidae   \n",
       "\n",
       "       Collisions Flight Call Habitat Stratum  \n",
       "0              55         yes    open   lower  \n",
       "1              55         yes    open   lower  \n",
       "2              55         yes    open   lower  \n",
       "3              55         yes    open   lower  \n",
       "4              55         yes    open   lower  \n",
       "...           ...         ...     ...     ...  \n",
       "77556        5124         yes    edge   lower  \n",
       "77557        5124         yes    edge   lower  \n",
       "77558           2         yes    edge   lower  \n",
       "77559           2         yes    edge   lower  \n",
       "77560       10133         yes  forest   lower  \n",
       "\n",
       "[77561 rows x 10 columns]"
      ],
      "text/html": "<div>\n<style scoped>\n    .dataframe tbody tr th:only-of-type {\n        vertical-align: middle;\n    }\n\n    .dataframe tbody tr th {\n        vertical-align: top;\n    }\n\n    .dataframe thead th {\n        text-align: right;\n    }\n</style>\n<table border=\"1\" class=\"dataframe\">\n  <thead>\n    <tr style=\"text-align: right;\">\n      <th></th>\n      <th>Genus</th>\n      <th>Species</th>\n      <th>Date</th>\n      <th>Locality</th>\n      <th>Season</th>\n      <th>Family</th>\n      <th>Collisions</th>\n      <th>Flight Call</th>\n      <th>Habitat</th>\n      <th>Stratum</th>\n    </tr>\n  </thead>\n  <tbody>\n    <tr>\n      <th>0</th>\n      <td>ammospiza</td>\n      <td>nelsoni</td>\n      <td>1982-10-03</td>\n      <td>MP</td>\n      <td>autumn</td>\n      <td>Passerellidae</td>\n      <td>55</td>\n      <td>yes</td>\n      <td>open</td>\n      <td>lower</td>\n    </tr>\n    <tr>\n      <th>1</th>\n      <td>ammospiza</td>\n      <td>nelsoni</td>\n      <td>1984-05-21</td>\n      <td>CHI</td>\n      <td>spring</td>\n      <td>Passerellidae</td>\n      <td>55</td>\n      <td>yes</td>\n      <td>open</td>\n      <td>lower</td>\n    </tr>\n    <tr>\n      <th>2</th>\n      <td>ammospiza</td>\n      <td>nelsoni</td>\n      <td>1984-05-25</td>\n      <td>MP</td>\n      <td>spring</td>\n      <td>Passerellidae</td>\n      <td>55</td>\n      <td>yes</td>\n      <td>open</td>\n      <td>lower</td>\n    </tr>\n    <tr>\n      <th>3</th>\n      <td>ammospiza</td>\n      <td>nelsoni</td>\n      <td>1985-10-08</td>\n      <td>MP</td>\n      <td>autumn</td>\n      <td>Passerellidae</td>\n      <td>55</td>\n      <td>yes</td>\n      <td>open</td>\n      <td>lower</td>\n    </tr>\n    <tr>\n      <th>4</th>\n      <td>ammospiza</td>\n      <td>nelsoni</td>\n      <td>1986-09-10</td>\n      <td>MP</td>\n      <td>autumn</td>\n      <td>Passerellidae</td>\n      <td>55</td>\n      <td>yes</td>\n      <td>open</td>\n      <td>lower</td>\n    </tr>\n    <tr>\n      <th>...</th>\n      <td>...</td>\n      <td>...</td>\n      <td>...</td>\n      <td>...</td>\n      <td>...</td>\n      <td>...</td>\n      <td>...</td>\n      <td>...</td>\n      <td>...</td>\n      <td>...</td>\n    </tr>\n    <tr>\n      <th>77556</th>\n      <td>melospiza</td>\n      <td>melodia</td>\n      <td>2016-10-19</td>\n      <td>CHI</td>\n      <td>autumn</td>\n      <td>Passerellidae</td>\n      <td>5124</td>\n      <td>yes</td>\n      <td>edge</td>\n      <td>lower</td>\n    </tr>\n    <tr>\n      <th>77557</th>\n      <td>melospiza</td>\n      <td>melodia</td>\n      <td>2016-10-30</td>\n      <td>CHI</td>\n      <td>autumn</td>\n      <td>Passerellidae</td>\n      <td>5124</td>\n      <td>yes</td>\n      <td>edge</td>\n      <td>lower</td>\n    </tr>\n    <tr>\n      <th>77558</th>\n      <td>zonotrichia</td>\n      <td>querula</td>\n      <td>2007-10-15</td>\n      <td>MP</td>\n      <td>autumn</td>\n      <td>Passerellidae</td>\n      <td>2</td>\n      <td>yes</td>\n      <td>edge</td>\n      <td>lower</td>\n    </tr>\n    <tr>\n      <th>77559</th>\n      <td>zonotrichia</td>\n      <td>querula</td>\n      <td>2008-10-16</td>\n      <td>MP</td>\n      <td>autumn</td>\n      <td>Passerellidae</td>\n      <td>2</td>\n      <td>yes</td>\n      <td>edge</td>\n      <td>lower</td>\n    </tr>\n    <tr>\n      <th>77560</th>\n      <td>zonotrichia</td>\n      <td>albicollis</td>\n      <td>2013-10-22</td>\n      <td>CHI</td>\n      <td>autumn</td>\n      <td>Passerellidae</td>\n      <td>10133</td>\n      <td>yes</td>\n      <td>forest</td>\n      <td>lower</td>\n    </tr>\n  </tbody>\n</table>\n<p>77561 rows × 10 columns</p>\n</div>"
     },
     "metadata": {},
     "execution_count": 5
    }
   ],
   "source": [
    "\n",
    "c = pd.merge(chicago_collision_df, flight_call_df,  how='left', on=['Genus','Species'])\n",
    "c"
   ]
  },
  {
   "cell_type": "code",
   "execution_count": 6,
   "metadata": {},
   "outputs": [
    {
     "output_type": "stream",
     "name": "stdout",
     "text": [
      "Locality    0\ndtype: int64\n"
     ]
    },
    {
     "output_type": "execute_result",
     "data": {
      "text/plain": [
       "             Genus     Species       Date Locality  Season         Family  \\\n",
       "0        ammospiza     nelsoni 1982-10-03       MP  autumn  Passerellidae   \n",
       "1        ammospiza     nelsoni 1984-05-21      CHI  spring  Passerellidae   \n",
       "2        ammospiza     nelsoni 1984-05-25       MP  spring  Passerellidae   \n",
       "3        ammospiza     nelsoni 1985-10-08       MP  autumn  Passerellidae   \n",
       "4        ammospiza     nelsoni 1986-09-10       MP  autumn  Passerellidae   \n",
       "...            ...         ...        ...      ...     ...            ...   \n",
       "77556    melospiza     melodia 2016-10-19      CHI  autumn  Passerellidae   \n",
       "77557    melospiza     melodia 2016-10-30      CHI  autumn  Passerellidae   \n",
       "77558  zonotrichia     querula 2007-10-15       MP  autumn  Passerellidae   \n",
       "77559  zonotrichia     querula 2008-10-16       MP  autumn  Passerellidae   \n",
       "77560  zonotrichia  albicollis 2013-10-22      CHI  autumn  Passerellidae   \n",
       "\n",
       "       Collisions Flight Call Habitat Stratum  \n",
       "0              55         yes    open   lower  \n",
       "1              55         yes    open   lower  \n",
       "2              55         yes    open   lower  \n",
       "3              55         yes    open   lower  \n",
       "4              55         yes    open   lower  \n",
       "...           ...         ...     ...     ...  \n",
       "77556        5124         yes    edge   lower  \n",
       "77557        5124         yes    edge   lower  \n",
       "77558           2         yes    edge   lower  \n",
       "77559           2         yes    edge   lower  \n",
       "77560       10133         yes  forest   lower  \n",
       "\n",
       "[77561 rows x 10 columns]"
      ],
      "text/html": "<div>\n<style scoped>\n    .dataframe tbody tr th:only-of-type {\n        vertical-align: middle;\n    }\n\n    .dataframe tbody tr th {\n        vertical-align: top;\n    }\n\n    .dataframe thead th {\n        text-align: right;\n    }\n</style>\n<table border=\"1\" class=\"dataframe\">\n  <thead>\n    <tr style=\"text-align: right;\">\n      <th></th>\n      <th>Genus</th>\n      <th>Species</th>\n      <th>Date</th>\n      <th>Locality</th>\n      <th>Season</th>\n      <th>Family</th>\n      <th>Collisions</th>\n      <th>Flight Call</th>\n      <th>Habitat</th>\n      <th>Stratum</th>\n    </tr>\n  </thead>\n  <tbody>\n    <tr>\n      <th>0</th>\n      <td>ammospiza</td>\n      <td>nelsoni</td>\n      <td>1982-10-03</td>\n      <td>MP</td>\n      <td>autumn</td>\n      <td>Passerellidae</td>\n      <td>55</td>\n      <td>yes</td>\n      <td>open</td>\n      <td>lower</td>\n    </tr>\n    <tr>\n      <th>1</th>\n      <td>ammospiza</td>\n      <td>nelsoni</td>\n      <td>1984-05-21</td>\n      <td>CHI</td>\n      <td>spring</td>\n      <td>Passerellidae</td>\n      <td>55</td>\n      <td>yes</td>\n      <td>open</td>\n      <td>lower</td>\n    </tr>\n    <tr>\n      <th>2</th>\n      <td>ammospiza</td>\n      <td>nelsoni</td>\n      <td>1984-05-25</td>\n      <td>MP</td>\n      <td>spring</td>\n      <td>Passerellidae</td>\n      <td>55</td>\n      <td>yes</td>\n      <td>open</td>\n      <td>lower</td>\n    </tr>\n    <tr>\n      <th>3</th>\n      <td>ammospiza</td>\n      <td>nelsoni</td>\n      <td>1985-10-08</td>\n      <td>MP</td>\n      <td>autumn</td>\n      <td>Passerellidae</td>\n      <td>55</td>\n      <td>yes</td>\n      <td>open</td>\n      <td>lower</td>\n    </tr>\n    <tr>\n      <th>4</th>\n      <td>ammospiza</td>\n      <td>nelsoni</td>\n      <td>1986-09-10</td>\n      <td>MP</td>\n      <td>autumn</td>\n      <td>Passerellidae</td>\n      <td>55</td>\n      <td>yes</td>\n      <td>open</td>\n      <td>lower</td>\n    </tr>\n    <tr>\n      <th>...</th>\n      <td>...</td>\n      <td>...</td>\n      <td>...</td>\n      <td>...</td>\n      <td>...</td>\n      <td>...</td>\n      <td>...</td>\n      <td>...</td>\n      <td>...</td>\n      <td>...</td>\n    </tr>\n    <tr>\n      <th>77556</th>\n      <td>melospiza</td>\n      <td>melodia</td>\n      <td>2016-10-19</td>\n      <td>CHI</td>\n      <td>autumn</td>\n      <td>Passerellidae</td>\n      <td>5124</td>\n      <td>yes</td>\n      <td>edge</td>\n      <td>lower</td>\n    </tr>\n    <tr>\n      <th>77557</th>\n      <td>melospiza</td>\n      <td>melodia</td>\n      <td>2016-10-30</td>\n      <td>CHI</td>\n      <td>autumn</td>\n      <td>Passerellidae</td>\n      <td>5124</td>\n      <td>yes</td>\n      <td>edge</td>\n      <td>lower</td>\n    </tr>\n    <tr>\n      <th>77558</th>\n      <td>zonotrichia</td>\n      <td>querula</td>\n      <td>2007-10-15</td>\n      <td>MP</td>\n      <td>autumn</td>\n      <td>Passerellidae</td>\n      <td>2</td>\n      <td>yes</td>\n      <td>edge</td>\n      <td>lower</td>\n    </tr>\n    <tr>\n      <th>77559</th>\n      <td>zonotrichia</td>\n      <td>querula</td>\n      <td>2008-10-16</td>\n      <td>MP</td>\n      <td>autumn</td>\n      <td>Passerellidae</td>\n      <td>2</td>\n      <td>yes</td>\n      <td>edge</td>\n      <td>lower</td>\n    </tr>\n    <tr>\n      <th>77560</th>\n      <td>zonotrichia</td>\n      <td>albicollis</td>\n      <td>2013-10-22</td>\n      <td>CHI</td>\n      <td>autumn</td>\n      <td>Passerellidae</td>\n      <td>10133</td>\n      <td>yes</td>\n      <td>forest</td>\n      <td>lower</td>\n    </tr>\n  </tbody>\n</table>\n<p>77561 rows × 10 columns</p>\n</div>"
     },
     "metadata": {},
     "execution_count": 6
    }
   ],
   "source": [
    "grou= c[~c[\"Family\"].notnull()][[\"Genus\",\"Species\",\"Locality\"]].groupby(by=[\"Genus\",\"Species\"]).agg(\"count\")\n",
    "\n",
    "print(grou[['Locality']].sum())\n",
    "c[~c[\"Family\"].notnull()][[\"Genus\",\"Species\",\"Family\"]].count\n",
    "\n",
    "c"
   ]
  },
  {
   "cell_type": "code",
   "execution_count": 7,
   "metadata": {},
   "outputs": [
    {
     "output_type": "stream",
     "name": "stdout",
     "text": [
      "        Genus    Species         Family  Collisions Flight Call Habitat  \\\n77  centronyx  henslowii  Passerellidae           9         yes    open   \n\n   Stratum  \n77   lower  \n"
     ]
    },
    {
     "output_type": "execute_result",
     "data": {
      "text/plain": [
       "        Genus    Species       Date Locality  Season\n",
       "61  centronyx  henslowii 2015-04-29      CHI  spring\n",
       "60  centronyx  henslowii 2012-05-25      CHI  spring\n",
       "59  centronyx  henslowii 2010-05-11      CHI  spring\n",
       "58  centronyx  henslowii 2005-04-19      CHI  spring\n",
       "57  centronyx  henslowii 1988-05-13       MP  spring\n",
       "56  centronyx  henslowii 1986-05-06       MP  spring\n",
       "55  centronyx  henslowii 1984-04-28       MP  spring\n",
       "54  centronyx  henslowii 1984-04-27       MP  spring\n",
       "53  centronyx  henslowii 1983-10-06       MP  autumn"
      ],
      "text/html": "<div>\n<style scoped>\n    .dataframe tbody tr th:only-of-type {\n        vertical-align: middle;\n    }\n\n    .dataframe tbody tr th {\n        vertical-align: top;\n    }\n\n    .dataframe thead th {\n        text-align: right;\n    }\n</style>\n<table border=\"1\" class=\"dataframe\">\n  <thead>\n    <tr style=\"text-align: right;\">\n      <th></th>\n      <th>Genus</th>\n      <th>Species</th>\n      <th>Date</th>\n      <th>Locality</th>\n      <th>Season</th>\n    </tr>\n  </thead>\n  <tbody>\n    <tr>\n      <th>61</th>\n      <td>centronyx</td>\n      <td>henslowii</td>\n      <td>2015-04-29</td>\n      <td>CHI</td>\n      <td>spring</td>\n    </tr>\n    <tr>\n      <th>60</th>\n      <td>centronyx</td>\n      <td>henslowii</td>\n      <td>2012-05-25</td>\n      <td>CHI</td>\n      <td>spring</td>\n    </tr>\n    <tr>\n      <th>59</th>\n      <td>centronyx</td>\n      <td>henslowii</td>\n      <td>2010-05-11</td>\n      <td>CHI</td>\n      <td>spring</td>\n    </tr>\n    <tr>\n      <th>58</th>\n      <td>centronyx</td>\n      <td>henslowii</td>\n      <td>2005-04-19</td>\n      <td>CHI</td>\n      <td>spring</td>\n    </tr>\n    <tr>\n      <th>57</th>\n      <td>centronyx</td>\n      <td>henslowii</td>\n      <td>1988-05-13</td>\n      <td>MP</td>\n      <td>spring</td>\n    </tr>\n    <tr>\n      <th>56</th>\n      <td>centronyx</td>\n      <td>henslowii</td>\n      <td>1986-05-06</td>\n      <td>MP</td>\n      <td>spring</td>\n    </tr>\n    <tr>\n      <th>55</th>\n      <td>centronyx</td>\n      <td>henslowii</td>\n      <td>1984-04-28</td>\n      <td>MP</td>\n      <td>spring</td>\n    </tr>\n    <tr>\n      <th>54</th>\n      <td>centronyx</td>\n      <td>henslowii</td>\n      <td>1984-04-27</td>\n      <td>MP</td>\n      <td>spring</td>\n    </tr>\n    <tr>\n      <th>53</th>\n      <td>centronyx</td>\n      <td>henslowii</td>\n      <td>1983-10-06</td>\n      <td>MP</td>\n      <td>autumn</td>\n    </tr>\n  </tbody>\n</table>\n</div>"
     },
     "metadata": {},
     "execution_count": 7
    }
   ],
   "source": [
    "print(flight_call_df[flight_call_df['Species']=='henslowii'])\n",
    "\n",
    "chicago_collision_df[chicago_collision_df['Species']=='henslowii'].sort_values(by=[\"Date\"],ascending=False)"
   ]
  },
  {
   "cell_type": "code",
   "execution_count": 18,
   "metadata": {},
   "outputs": [
    {
     "output_type": "stream",
     "name": "stdout",
     "text": [
      "           Family        Genus     Species Flight Call  collisions  \\\n0   Passerellidae  zonotrichia  albicollis         yes       10133   \n1   Passerellidae    melospiza   georgiana         yes        9820   \n2   Passerellidae        junco    hyemalis         yes        6303   \n3      Certhiidae      certhia   americana         yes        5352   \n4   Passerellidae    melospiza     melodia         yes        5124   \n..            ...          ...         ...         ...         ...   \n86     Vireonidae        vireo      gilvus          no           4   \n87      Parulidae    setophaga     cerulea         yes           3   \n88  Passerellidae  zonotrichia     querula         yes           2   \n89       Laniidae       lanius   excubitor          no           1   \n90   Cardinalidae    passerina    caerulea         yes           1   \n\n    collisions_days  \n0              1852  \n1              1550  \n2              1686  \n3               815  \n4              1156  \n..              ...  \n86                2  \n87                3  \n88                2  \n89                1  \n90                1  \n\n[91 rows x 6 columns]\n"
     ]
    },
    {
     "output_type": "execute_result",
     "data": {
      "text/plain": [
       "Empty DataFrame\n",
       "Columns: [collisions, collisions_days]\n",
       "Index: []"
      ],
      "text/html": "<div>\n<style scoped>\n    .dataframe tbody tr th:only-of-type {\n        vertical-align: middle;\n    }\n\n    .dataframe tbody tr th {\n        vertical-align: top;\n    }\n\n    .dataframe thead th {\n        text-align: right;\n    }\n</style>\n<table border=\"1\" class=\"dataframe\">\n  <thead>\n    <tr style=\"text-align: right;\">\n      <th></th>\n      <th></th>\n      <th></th>\n      <th></th>\n      <th>collisions</th>\n      <th>collisions_days</th>\n    </tr>\n    <tr>\n      <th>Family</th>\n      <th>Genus</th>\n      <th>Species</th>\n      <th>Flight Call</th>\n      <th></th>\n      <th></th>\n    </tr>\n  </thead>\n  <tbody>\n  </tbody>\n</table>\n</div>"
     },
     "metadata": {},
     "execution_count": 18
    }
   ],
   "source": [
    "d = c.fillna(\"missing\").groupby(by=[\"Family\",\"Genus\",\"Species\",\"Flight Call\"]).agg(collisions=('Species', 'count'), collisions_days =('Date','nunique') ).sort_values(by= \"collisions\", ascending = False)\n",
    "d.reset_index(inplace = True)\n",
    "print(d)\n",
    "c[~c[\"Family\"].notnull()].fillna(\"missing\").groupby(by=[\"Family\",\"Genus\",\"Species\",\"Flight Call\"]).agg(collisions=('Species', 'count'), collisions_days =('Date','nunique') ).sort_values(by= \"collisions\", ascending = False)"
   ]
  },
  {
   "cell_type": "code",
   "execution_count": 17,
   "metadata": {},
   "outputs": [
    {
     "output_type": "execute_result",
     "data": {
      "text/plain": [
       "array(['Passerellidae', 'Turdidae', 'Certhiidae', 'Troglodytidae',\n",
       "       'Tyrannidae', 'Parulidae', 'Mimidae', 'Icteriidae', 'Icteridae',\n",
       "       'Laniidae', 'Cardinalidae', 'Polioptilidae', 'Regulidae',\n",
       "       'Sittidae', 'Vireonidae'], dtype=object)"
      ]
     },
     "metadata": {},
     "execution_count": 17
    }
   ],
   "source": [
    "c[\"Family\"].unique()"
   ]
  },
  {
   "cell_type": "code",
   "execution_count": 9,
   "metadata": {},
   "outputs": [
    {
     "output_type": "execute_result",
     "data": {
      "text/plain": [
       "           Date  Light Score \n",
       "2136 2018-05-26           4.0\n",
       "1950 2018-05-25          11.0\n",
       "2735 2018-05-24          11.0\n",
       "3236 2018-05-23          11.0\n",
       "2668 2018-05-22          14.0\n",
       "...         ...           ...\n",
       "2596        NaT          15.0\n",
       "2742        NaT           3.0\n",
       "2984        NaT           6.0\n",
       "3030        NaT          14.0\n",
       "3095        NaT           5.0\n",
       "\n",
       "[3251 rows x 2 columns]"
      ],
      "text/html": "<div>\n<style scoped>\n    .dataframe tbody tr th:only-of-type {\n        vertical-align: middle;\n    }\n\n    .dataframe tbody tr th {\n        vertical-align: top;\n    }\n\n    .dataframe thead th {\n        text-align: right;\n    }\n</style>\n<table border=\"1\" class=\"dataframe\">\n  <thead>\n    <tr style=\"text-align: right;\">\n      <th></th>\n      <th>Date</th>\n      <th>Light Score</th>\n    </tr>\n  </thead>\n  <tbody>\n    <tr>\n      <th>2136</th>\n      <td>2018-05-26</td>\n      <td>4.0</td>\n    </tr>\n    <tr>\n      <th>1950</th>\n      <td>2018-05-25</td>\n      <td>11.0</td>\n    </tr>\n    <tr>\n      <th>2735</th>\n      <td>2018-05-24</td>\n      <td>11.0</td>\n    </tr>\n    <tr>\n      <th>3236</th>\n      <td>2018-05-23</td>\n      <td>11.0</td>\n    </tr>\n    <tr>\n      <th>2668</th>\n      <td>2018-05-22</td>\n      <td>14.0</td>\n    </tr>\n    <tr>\n      <th>...</th>\n      <td>...</td>\n      <td>...</td>\n    </tr>\n    <tr>\n      <th>2596</th>\n      <td>NaT</td>\n      <td>15.0</td>\n    </tr>\n    <tr>\n      <th>2742</th>\n      <td>NaT</td>\n      <td>3.0</td>\n    </tr>\n    <tr>\n      <th>2984</th>\n      <td>NaT</td>\n      <td>6.0</td>\n    </tr>\n    <tr>\n      <th>3030</th>\n      <td>NaT</td>\n      <td>14.0</td>\n    </tr>\n    <tr>\n      <th>3095</th>\n      <td>NaT</td>\n      <td>5.0</td>\n    </tr>\n  </tbody>\n</table>\n<p>3251 rows × 2 columns</p>\n</div>"
     },
     "metadata": {},
     "execution_count": 9
    }
   ],
   "source": [
    "light_levels_df.sort_values(by=[\"Date\"],ascending=False)"
   ]
  },
  {
   "cell_type": "code",
   "execution_count": 10,
   "metadata": {},
   "outputs": [
    {
     "output_type": "stream",
     "name": "stdout",
     "text": [
      "2320\n"
     ]
    },
    {
     "output_type": "execute_result",
     "data": {
      "text/plain": [
       "             Genus     Species       Date Locality  Season         Family  \\\n",
       "0        ammospiza     nelsoni 1982-10-03       MP  autumn  Passerellidae   \n",
       "1        ammospiza     nelsoni 1984-05-21      CHI  spring  Passerellidae   \n",
       "2        ammospiza     nelsoni 1984-05-25       MP  spring  Passerellidae   \n",
       "3        ammospiza     nelsoni 1985-10-08       MP  autumn  Passerellidae   \n",
       "4        ammospiza     nelsoni 1986-09-10       MP  autumn  Passerellidae   \n",
       "...            ...         ...        ...      ...     ...            ...   \n",
       "80001    melospiza     melodia 2016-10-19      CHI  autumn  Passerellidae   \n",
       "80002    melospiza     melodia 2016-10-30      CHI  autumn  Passerellidae   \n",
       "80003  zonotrichia     querula 2007-10-15       MP  autumn  Passerellidae   \n",
       "80004  zonotrichia     querula 2008-10-16       MP  autumn  Passerellidae   \n",
       "80005  zonotrichia  albicollis 2013-10-22      CHI  autumn  Passerellidae   \n",
       "\n",
       "       Collisions Flight Call Habitat Stratum  Light Score   \n",
       "0              55         yes    open   lower           NaN  \n",
       "1              55         yes    open   lower           NaN  \n",
       "2              55         yes    open   lower           NaN  \n",
       "3              55         yes    open   lower           NaN  \n",
       "4              55         yes    open   lower           NaN  \n",
       "...           ...         ...     ...     ...           ...  \n",
       "80001        5124         yes    edge   lower          10.0  \n",
       "80002        5124         yes    edge   lower           3.0  \n",
       "80003           2         yes    edge   lower          14.0  \n",
       "80004           2         yes    edge   lower           4.0  \n",
       "80005       10133         yes  forest   lower           8.0  \n",
       "\n",
       "[80006 rows x 11 columns]"
      ],
      "text/html": "<div>\n<style scoped>\n    .dataframe tbody tr th:only-of-type {\n        vertical-align: middle;\n    }\n\n    .dataframe tbody tr th {\n        vertical-align: top;\n    }\n\n    .dataframe thead th {\n        text-align: right;\n    }\n</style>\n<table border=\"1\" class=\"dataframe\">\n  <thead>\n    <tr style=\"text-align: right;\">\n      <th></th>\n      <th>Genus</th>\n      <th>Species</th>\n      <th>Date</th>\n      <th>Locality</th>\n      <th>Season</th>\n      <th>Family</th>\n      <th>Collisions</th>\n      <th>Flight Call</th>\n      <th>Habitat</th>\n      <th>Stratum</th>\n      <th>Light Score</th>\n    </tr>\n  </thead>\n  <tbody>\n    <tr>\n      <th>0</th>\n      <td>ammospiza</td>\n      <td>nelsoni</td>\n      <td>1982-10-03</td>\n      <td>MP</td>\n      <td>autumn</td>\n      <td>Passerellidae</td>\n      <td>55</td>\n      <td>yes</td>\n      <td>open</td>\n      <td>lower</td>\n      <td>NaN</td>\n    </tr>\n    <tr>\n      <th>1</th>\n      <td>ammospiza</td>\n      <td>nelsoni</td>\n      <td>1984-05-21</td>\n      <td>CHI</td>\n      <td>spring</td>\n      <td>Passerellidae</td>\n      <td>55</td>\n      <td>yes</td>\n      <td>open</td>\n      <td>lower</td>\n      <td>NaN</td>\n    </tr>\n    <tr>\n      <th>2</th>\n      <td>ammospiza</td>\n      <td>nelsoni</td>\n      <td>1984-05-25</td>\n      <td>MP</td>\n      <td>spring</td>\n      <td>Passerellidae</td>\n      <td>55</td>\n      <td>yes</td>\n      <td>open</td>\n      <td>lower</td>\n      <td>NaN</td>\n    </tr>\n    <tr>\n      <th>3</th>\n      <td>ammospiza</td>\n      <td>nelsoni</td>\n      <td>1985-10-08</td>\n      <td>MP</td>\n      <td>autumn</td>\n      <td>Passerellidae</td>\n      <td>55</td>\n      <td>yes</td>\n      <td>open</td>\n      <td>lower</td>\n      <td>NaN</td>\n    </tr>\n    <tr>\n      <th>4</th>\n      <td>ammospiza</td>\n      <td>nelsoni</td>\n      <td>1986-09-10</td>\n      <td>MP</td>\n      <td>autumn</td>\n      <td>Passerellidae</td>\n      <td>55</td>\n      <td>yes</td>\n      <td>open</td>\n      <td>lower</td>\n      <td>NaN</td>\n    </tr>\n    <tr>\n      <th>...</th>\n      <td>...</td>\n      <td>...</td>\n      <td>...</td>\n      <td>...</td>\n      <td>...</td>\n      <td>...</td>\n      <td>...</td>\n      <td>...</td>\n      <td>...</td>\n      <td>...</td>\n      <td>...</td>\n    </tr>\n    <tr>\n      <th>80001</th>\n      <td>melospiza</td>\n      <td>melodia</td>\n      <td>2016-10-19</td>\n      <td>CHI</td>\n      <td>autumn</td>\n      <td>Passerellidae</td>\n      <td>5124</td>\n      <td>yes</td>\n      <td>edge</td>\n      <td>lower</td>\n      <td>10.0</td>\n    </tr>\n    <tr>\n      <th>80002</th>\n      <td>melospiza</td>\n      <td>melodia</td>\n      <td>2016-10-30</td>\n      <td>CHI</td>\n      <td>autumn</td>\n      <td>Passerellidae</td>\n      <td>5124</td>\n      <td>yes</td>\n      <td>edge</td>\n      <td>lower</td>\n      <td>3.0</td>\n    </tr>\n    <tr>\n      <th>80003</th>\n      <td>zonotrichia</td>\n      <td>querula</td>\n      <td>2007-10-15</td>\n      <td>MP</td>\n      <td>autumn</td>\n      <td>Passerellidae</td>\n      <td>2</td>\n      <td>yes</td>\n      <td>edge</td>\n      <td>lower</td>\n      <td>14.0</td>\n    </tr>\n    <tr>\n      <th>80004</th>\n      <td>zonotrichia</td>\n      <td>querula</td>\n      <td>2008-10-16</td>\n      <td>MP</td>\n      <td>autumn</td>\n      <td>Passerellidae</td>\n      <td>2</td>\n      <td>yes</td>\n      <td>edge</td>\n      <td>lower</td>\n      <td>4.0</td>\n    </tr>\n    <tr>\n      <th>80005</th>\n      <td>zonotrichia</td>\n      <td>albicollis</td>\n      <td>2013-10-22</td>\n      <td>CHI</td>\n      <td>autumn</td>\n      <td>Passerellidae</td>\n      <td>10133</td>\n      <td>yes</td>\n      <td>forest</td>\n      <td>lower</td>\n      <td>8.0</td>\n    </tr>\n  </tbody>\n</table>\n<p>80006 rows × 11 columns</p>\n</div>"
     },
     "metadata": {},
     "execution_count": 10
    }
   ],
   "source": [
    "x = pd.merge(c, light_levels_df,  how='left', on=['Date'])\n",
    "print(len(pd.unique(x[x[\"Light Score \"].notnull() & x[\"Family\"].notnull()].sort_values(by=[\"Date\"])[\"Date\"])))\n",
    "\n",
    "x['Month'] = pd.DatetimeIndex(x['Date']).month\n",
    "x['Season'] = x['Month'].map({3:\"spring\",4:\"spring\",5:\"spring\",8:\"autumn\",9:\"autumn\",10:\"autumn\",11:\"autumn\"})\n",
    "\n",
    "\n",
    "x.drop(labels = [\"Month\"], axis =1)"
   ]
  },
  {
   "cell_type": "code",
   "execution_count": 11,
   "metadata": {},
   "outputs": [
    {
     "output_type": "error",
     "ename": "SyntaxError",
     "evalue": "invalid syntax (<ipython-input-11-b5428fc4f9be>, line 1)",
     "traceback": [
      "\u001b[1;36m  File \u001b[1;32m\"<ipython-input-11-b5428fc4f9be>\"\u001b[1;36m, line \u001b[1;32m1\u001b[0m\n\u001b[1;33m    df[\"Habitat\"] = flight_call_df[\"Habitat\"].str.lower()x_count.set_index([\"Family\",\"Genus\",\"Species\"],inplace = True )\u001b[0m\n\u001b[1;37m                                                               ^\u001b[0m\n\u001b[1;31mSyntaxError\u001b[0m\u001b[1;31m:\u001b[0m invalid syntax\n"
     ]
    }
   ],
   "source": [
    "\n",
    "df[\"Habitat\"] = flight_call_df[\"Habitat\"].str.lower()x_count.set_index([\"Family\",\"Genus\",\"Species\"],inplace = True )\n",
    "x_count\n",
    "x_count[\"flag\"] = x_count[\"Flight Call\"].apply(lambda x: 1  if x == \"yes\" else 0)\n",
    "#x_count.drop([\"Collisions\"])\n",
    "x_count[[\"collision_sqrt\",\"flag\"]].sort_values(by =[\"collision_sqrt\"],ascending = False).iloc[0:10].plot.barh(y=\"collision_sqrt\")"
   ]
  },
  {
   "cell_type": "code",
   "execution_count": 85,
   "metadata": {},
   "outputs": [
    {
     "output_type": "execute_result",
     "data": {
      "text/plain": [
       "                           Flight Call  Collisions  collision_sqrt\n",
       "Genus       Species                                               \n",
       "Ammodramus  savannarum             yes         106       10.295630\n",
       "Cardellina  canadensis             yes         245       15.652476\n",
       "            pusilla                yes         190       13.784049\n",
       "Catharus    fuscescens             yes         743       27.258026\n",
       "            guttatus               yes        3840       61.967734\n",
       "...                                ...         ...             ...\n",
       "Vireo       gilvus                  no           6        2.449490\n",
       "            olivaceus               no         137       11.704700\n",
       "            philadelphicus          no          12        3.464102\n",
       "Zonotrichia albicollis             yes       10623      103.067939\n",
       "            leucophrys             yes        1131       33.630343\n",
       "\n",
       "[79 rows x 3 columns]"
      ],
      "text/html": "<div>\n<style scoped>\n    .dataframe tbody tr th:only-of-type {\n        vertical-align: middle;\n    }\n\n    .dataframe tbody tr th {\n        vertical-align: top;\n    }\n\n    .dataframe thead th {\n        text-align: right;\n    }\n</style>\n<table border=\"1\" class=\"dataframe\">\n  <thead>\n    <tr style=\"text-align: right;\">\n      <th></th>\n      <th></th>\n      <th>Flight Call</th>\n      <th>Collisions</th>\n      <th>collision_sqrt</th>\n    </tr>\n    <tr>\n      <th>Genus</th>\n      <th>Species</th>\n      <th></th>\n      <th></th>\n      <th></th>\n    </tr>\n  </thead>\n  <tbody>\n    <tr>\n      <th>Ammodramus</th>\n      <th>savannarum</th>\n      <td>yes</td>\n      <td>106</td>\n      <td>10.295630</td>\n    </tr>\n    <tr>\n      <th rowspan=\"2\" valign=\"top\">Cardellina</th>\n      <th>canadensis</th>\n      <td>yes</td>\n      <td>245</td>\n      <td>15.652476</td>\n    </tr>\n    <tr>\n      <th>pusilla</th>\n      <td>yes</td>\n      <td>190</td>\n      <td>13.784049</td>\n    </tr>\n    <tr>\n      <th rowspan=\"2\" valign=\"top\">Catharus</th>\n      <th>fuscescens</th>\n      <td>yes</td>\n      <td>743</td>\n      <td>27.258026</td>\n    </tr>\n    <tr>\n      <th>guttatus</th>\n      <td>yes</td>\n      <td>3840</td>\n      <td>61.967734</td>\n    </tr>\n    <tr>\n      <th>...</th>\n      <th>...</th>\n      <td>...</td>\n      <td>...</td>\n      <td>...</td>\n    </tr>\n    <tr>\n      <th rowspan=\"3\" valign=\"top\">Vireo</th>\n      <th>gilvus</th>\n      <td>no</td>\n      <td>6</td>\n      <td>2.449490</td>\n    </tr>\n    <tr>\n      <th>olivaceus</th>\n      <td>no</td>\n      <td>137</td>\n      <td>11.704700</td>\n    </tr>\n    <tr>\n      <th>philadelphicus</th>\n      <td>no</td>\n      <td>12</td>\n      <td>3.464102</td>\n    </tr>\n    <tr>\n      <th rowspan=\"2\" valign=\"top\">Zonotrichia</th>\n      <th>albicollis</th>\n      <td>yes</td>\n      <td>10623</td>\n      <td>103.067939</td>\n    </tr>\n    <tr>\n      <th>leucophrys</th>\n      <td>yes</td>\n      <td>1131</td>\n      <td>33.630343</td>\n    </tr>\n  </tbody>\n</table>\n<p>79 rows × 3 columns</p>\n</div>"
     },
     "metadata": {},
     "execution_count": 85
    }
   ],
   "source": [
    " "
   ]
  }
 ],
 "metadata": {
  "kernelspec": {
   "name": "python3",
   "display_name": "Python 3.6.9 64-bit",
   "metadata": {
    "interpreter": {
     "hash": "5b53eda495074156449be7aa846fc51442f96ac727bdbae01d158abd3d0829e0"
    }
   }
  }
 },
 "nbformat": 4,
 "nbformat_minor": 2
}